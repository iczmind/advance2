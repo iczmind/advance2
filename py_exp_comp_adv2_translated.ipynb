{
 "cells": [
  {
   "cell_type": "markdown",
   "metadata": {},
   "source": [
   "\n",
    "# Metode Komputasi Eksplorasi Menggunakan Python\n",
    "\n",
     "*Oleh Mark Bakker, TU Delft Belanda.*\n",
    "\n",
    "*Versi Indonesia disesuaikan oleh Tim ITB dan Tim ITS.*\n",
    "## Topik Lanjutan Notebook 2: Sistem yang tersusun dari persamaan-persamaan linear"
   ]
  },
  {
   "cell_type": "markdown",
   "metadata": {},
   "source": [
    "Dalam Notebook ini kita akan mempelajari bagaimana cara membangun dan menemukan solusi dari sistem yang tersusun dari persamaan-persamaan linear. Setelah itu, dengan menggunakan teknik yang sama, kita akan mencoba untuk memecahkan soal-soal Mekanika Tanah."
   ]
  },
  {
   "cell_type": "code",
   "execution_count": 1,
   "metadata": {
    "collapsed": false
   },
   "outputs": [],
   "source": [
    "import numpy as np\n",
    "import matplotlib.pyplot as plt\n",
    "%matplotlib inline"
   ]
  },
  {
   "cell_type": "markdown",
   "metadata": {},
   "source": [
    "### Membuat dan menemukan solusi dari sebuah sistem yang tersusun dari persamaan-persamaan linear\n",
    "Sebuah parabola dapat didefinisikan dengan menggunakan tiga buah titik, selama titik-titik tersebut tidak terletak sejajar satu sama lain. Persamaan yang digunakan untuk menyatakan kurva berbentuk parabola adalah $y=ax^2+bx+c$, di mana $a$, $b$, dan $c$ berlaku sebagai konstanta. Sebutlah terdapat tiga buah titik; $(x_1,y_1)$, $(x_2,y_2)$, dan $(x_3,y_3)$. Dari sini kita dapat membuat sebuah sistem dengan tiga persamaan linear sebagai berikut:\n",
    "\n",
    "$\n",
    "\\begin{split}\n",
    "x_1^2a+x_1b+c&=y_1 \\\\\n",
    "x_2^2a+x_2b+c&=y_2 \\\\\n",
    "x_3^2a+x_3b+c&=y_3 \\\\\n",
    "\\end{split}\n",
    "$\n",
    "\n",
    "Bentuk matriks dari sistem di atas adalah:\n",
    "\n",
    "$\n",
    "\\left(\n",
    "\\begin{array}{ccc}\n",
    "x_1^2 & x_1 & 1 \\\\\n",
    "x_2^2 & x_2 & 1 \\\\\n",
    "x_3^2 & x_3 & 1 \\\\\n",
    "\\end{array}\n",
    "\\right)\n",
    "\\left(\n",
    "\\begin{array}{c}\n",
    "a \\\\b \\\\c \\\\\n",
    "\\end{array}\n",
    "\\right)\n",
    "=\n",
    "\\left(\n",
    "\\begin{array}{c}\n",
    "y_1 \\\\\n",
    "y_2 \\\\\n",
    "y_3 \\\\\n",
    "\\end{array}\n",
    "\\right)\n",
    "$\n",
    "\n",
    "Untuk menemukan solusi dari soal di atas, langkah pertama adalah untuk membuat sebuah array 2 dimensi yang mengandung nilai dari matriks sistem, beri nama array ini `A`, dan sebuah array 1 dimensi yang mengandung nilai dari variabel-variabel yang terletak di sisi paling kanan, beri nama `rhs`. \n",
    "\n",
    "Mari kita terapkan langkah pertama tersebut pada tiga titik berikut:\n",
    "$(x_1,y_1)=(-2,2)$, $(x_2,y_2)=(1,-1)$, $(x_3,y_3)=(4,4)$"
   ]
  },
  {
   "cell_type": "code",
   "execution_count": 2,
   "metadata": {
    "collapsed": false
   },
   "outputs": [
    {
     "name": "stdout",
     "output_type": "stream",
     "text": [
      "Array A: \n",
      "[[  4.  -2.   1.]\n",
      " [  1.   1.   1.]\n",
      " [ 16.   4.   1.]]\n",
      "rhs:  [ 2. -1.  4.]\n"
     ]
    }
   ],
   "source": [
    "xp = np.array([-2, 1,4])\n",
    "yp = np.array([ 2,-1,4])\n",
    "A = np.zeros((3,3))\n",
    "rhs = np.zeros(3)\n",
    "for i in range(3):\n",
    "    A[i] = xp[i]**2, xp[i], 1  # Menyimpan nilai dari matriks sistem perbaris\n",
    "    rhs[i] = yp[i]\n",
    "print('Array A: ')\n",
    "print(A)\n",
    "print('rhs: ',rhs)"
   ]
  },
  {
   "cell_type": "markdown",
   "metadata": {},
   "source": [
    "Solusi dari sistem di atas dapat diperoleh dengan menggunakan fungsi `solve` yang disediakan oleh `linalg`, sebuah sub-paket dari `numpy`. Metode penyelesaian masalah dengan menggunakan fungsi `solve` membutuhkan 2 buah input; satu array 2 dimensi (matriks sistem) dan satu array 1 dimensi (variabel-variabel di sisi kanan). Untuk memastikan apakah fungsi `solve` mengembalikan jawaban yang benar, lakukan operasi perkalian matriks antara array `A` dan solusi yang diperoleh. Operasi perkalian matriks dapat diakses menggunakan paket `numpy` dengan memanggil perintah `dot`. Validasi jawaban juga dapat dilakukan secara langsung dengan menggambar tiga buah titik yang diberikan pada soal di atas dan fungsi parabola yang diberikan sebagai solusi."
   ]
  },
  {
   "cell_type": "code",
   "execution_count": 4,
   "metadata": {
    "collapsed": false
   },
   "outputs": [
    {
     "name": "stdout",
     "output_type": "stream",
     "text": [
      "solusi adalah [a b c]:  [ 0.44444444 -0.55555556 -0.88888889]\n",
      "validasi jawaban dengan menggunakan operasi perkalian matriks:  [ 2. -1.  4.]\n"
     ]
    },
    {
     "data": {
      "image/png": "[encoded data removed]",
      "text/plain": [
       "<matplotlib.figure.Figure at 0x24910dee9b0>"
      ]
     },
     "metadata": {},
     "output_type": "display_data"
    }
   ],
   "source": [
    "from pylab import *\n",
    "sol = np.linalg.solve(A,rhs)\n",
    "print('solusi adalah [a b c]: ', sol)\n",
    "print('validasi jawaban dengan menggunakan operasi perkalian matriks: ', np.dot(A,sol))\n",
    "plt.plot([-2,1,4], [2,-1,4], 'ro')\n",
    "x = np.linspace(-3,5,100)\n",
    "y = sol[0]*x**2 + sol[1]*x + sol[2]\n",
    "plt.plot(x,y,'b');"
   ]
  },
  {
   "cell_type": "markdown",
   "metadata": {},
   "source": [
    "### Latihan 1. <a name=\"back1\"></a> Mencocokkan sebuah kurva berbentuk gelombang\n",
    "Sebutlah terdapat empat buah hasil pengukuran variabel $y$ pada $t$: $(t_0,y_0)=(0,3)$, $(t_1,y_1)=(0.25,1)$, $(t_2,y_2)=(0.5,-3)$, $(t_3,y_3)=(0.75,1)$. Hasil observasi ini merupakan bagian dari sebuah gelombang yang dapat didefinisikan sebagai berikut:\n",
    "\n",
    "$y = a\\cos(\\pi t) + b\\cos(2\\pi t) + c\\cos(3\\pi t) + d\\cos(4\\pi t)$\n",
    "\n",
    "Di mana $a$, $b$, $c$, dan $d$ adalah parameter. Buatlah sebuah sistem yang terdiri dari empat persamaan linear dan temukan solusi dari parameter $a$, $b$, $c$, dan $d$. Setelah itu buatlah plot dari gelombang di atas pada $t=0$ sampai dengan 1. Tunjukkan empat titik observasi pada soal di atas dalam plot gelombang anda dengan menggunakan penanda titik. "
   ]
  },
  {
   "cell_type": "code",
   "execution_count": "",
   "metadata": {
    "collapsed": false
   },
   "outputs": [],
   "source": []
  },
  {
   "cell_type": "markdown",
   "metadata": {},
   "source": [
    "<a href=\"#ex1answer\">Kunci Jawaban untuk Latihan 1</a>"
   ]
  },
  {
   "cell_type": "markdown",
   "metadata": {},
   "source": [
    "### Aliran air tanah 1 dimensi\n",
    "Sebutlah terdapat sebuah lapisan pasir yang terletak di bawah lapisan lempung (*clay*). Terdapat dua buah kanal dengan muka air yang tetap yang terletak di masing-masing sisi dari lapisan pasir tersebut; $h_1^*$ (sisi kiri) dan $h_2^*$ (sisi kanan). Jarak dari kanal 1 ke kanal 2 adalah $L$. Terdapat resapan air dengan laju yang tetap $P$ dari lapisan pasir (lihat gambar). *Head* dari air tanah yang terdapat pada lapisan pasir ini dapat didefinisikan dengan menggunakan persamaan diferensial orde ke dua di bawah ini:\n",
    "\n",
    "$\\frac{\\text{d}^2h}{\\text{d}x^2} = -\\frac{P}{kD}$\n",
    "\n",
    "Di mana $h$ adalah *head*, $k$ merupakan konduktifitas hidrolik dari lapisan pasir, dan $D$ adalah ketebalan dari lapisan pasir. Kondisi di batas-batas sistem adalah sebagai berikut; $h=h_1^*$ pada $x=0$ dan $h=h_2^*$ pada $x=L$.\n",
    "\n",
    "<img src=\"http://i.imgur.com/2DH0sxT.png\" alt=\"Canals\" width=400pt>\n",
    "\n",
    "Meskipun solusi dari contoh soal dapat ditemukan dengan mudah, kita akan mencoba memecahkan sistem ini secara numerik dengan menggunakan metode beda hingga atau *finite difference method*, di mana kita dapat mencari $P$ sebagai fungsi dari $x$. *Head* akan dihitung pada titik-titik yang terdistribusi secara merata sejumlah $N+1$, mulai dari $x=0$ sampai $x=L$. Titik-titik ini akan kita beri label $x_0$ sampai dengan $x_{N}$, di mana $x_n=n\\Delta x$ dan $\\Delta x$ adalah jarak horizontal di antara titik-titik tersebut. *Head* pada titik $x_n$ disebut dengan $h_n$. Turunan orde ke dua dari sistem ini dapat dihampiri sebagai berikut (lihat, e.g., Verrujt (2012) Soil Mechanics, Eq. 17.4; tautan untuk versi pdf dari dokumen ini dapat ditemukan di bawah tab *Software* [di sini](http://geo.verruijt.net/)):\n",
    "\n",
    "$\\frac{\\text{d}^2h}{\\text{d}x^2} \\approx \\frac{1}{\\Delta x} \\left[ \\frac{h_{n+1}-h_n}{\\Delta x} - \\frac{h_{n}-h_{n-1}}{\\Delta x} \\right]= \\frac{h_{n-1}-2h_n+h_{n+1}}{(\\Delta x)^2}$\n",
    "\n",
    "Gunakan persamaan untuk menghampiri turunan orde ke dua di atas sebagai solusi dari persamaan diferensial yang kita butuhkan untuk sistem air tanah yang sedang kita evaluasi. Atur letak variabel-variabel yang telah diberikan pada soal sehingga membentuk persamaan di bawah ini:\n",
    "\n",
    "$h_{n-1}-2h_n+h_{n+1} = -P(\\Delta x)^2/(kD)$\n",
    "\n",
    "Persamaan di atas dapat kita gunakan untuk mendefinisikan lokasi tiap titik $n$, kecuali pada titik pertama dan terakhir di mana kita perlu menerapkan kondisi batas yang sesuai:\n",
    "\n",
    "$h_0=h_1^* \\qquad h_N=h_2^*$\n",
    "\n",
    "Ketika $N=4$, maka kita perlu menemukan solusi dari sebuah sistem yang terdiri dari $N+1=5$ persamaan linear pada $h_0$ sampai $h_4$:\n",
    "\n",
    "$\\begin{split}\n",
    "h_0 &= h_1^*  \\\\\n",
    "h_{0}-2h_1+h_{2} &= -P(\\Delta x)^2/(kD) \\\\\n",
    "h_{1}-2h_2+h_{3} &= -P(\\Delta x)^2/(kD) \\\\\n",
    "h_{2}-2h_3+h_{4} &= -P(\\Delta x)^2/(kD) \\\\\n",
    "h_4 &= h_2^* \n",
    "\\end{split}$\n",
    "\n",
    "atau dalam bentuk matriks:\n",
    "\n",
    "$\n",
    "\\left(\n",
    "\\begin{array}{ccccc}\n",
    "1 & 0 & 0 & 0 & 0 \\\\\n",
    "1 & -2 & 1 & 0 & 0 \\\\\n",
    "0 & 1 & -2 & 1 & 0 \\\\\n",
    "0 & 0 & 1 & -2 & 1 \\\\\n",
    "0 & 0 & 0 & 0 & 1 \\\\\n",
    "\\end{array}\n",
    "\\right)\n",
    "\\left(\n",
    "\\begin{array}{c}\n",
    "h_0 \\\\\n",
    "h_1 \\\\\n",
    "h_2 \\\\\n",
    "h_3 \\\\\n",
    "h_4 \\\\\n",
    "\\end{array}\n",
    "\\right)\n",
    "=\n",
    "\\left(\n",
    "\\begin{array}{c}\n",
    "h_1^* \\\\\n",
    "-P(\\Delta x)^2/(kD) \\\\\n",
    "-P(\\Delta x)^2/(kD) \\\\\n",
    "-P(\\Delta x)^2/(kD) \\\\\n",
    "h_2^* \\\\\n",
    "\\end{array}\n",
    "\\right)\n",
    "$\n",
    "\n",
    "Perhatikan bahwa matriks di atas memiliki banyak nilai 0. Matriks dengan karakteristik seperti ini disebut dengan istilah matriks tri-diagonal, karena nilai yang bukan 0 hanya terletak pada 3 buah diagonal pada matriks. Matriks tri-diagonal ini dapat dibuat dengan secara spesifik menuliskan nilai non-0 pada lokasi-lokasi diagonal yang diinginkan. Letak diagonal utama pada matriks didefinisikan sebagai nomor 0 dan memiliki panjang $N+1$. Posisi dari diagonal yang terletak tepat di atas diagonal utama disebut sebagai nomor $+1$ dengan panjang $N$ dan diagonal yang terletak tepat di bawah diagonal utama memiliki nomor posisi $-1$ dengan panjang yang sama, $N$. Dengan memanggil fungsi `diag` kita dapat menciptakan matriks yang memiliki satu buah diagonal. Argumen input yang diperlukan untuk fungsi ini adalah sebuah array berisi nilai-nilai yang akan ditempatkan pada diagonal dan keterangan berupa nomor posisi dari diagonaltersebut. Contoh dari penggunaan fungsi `diag` untuk menciptakan matriks tri-diagonal dapat dilihat di bawah ini."
   ]
  },
  {
   "cell_type": "code",
   "execution_count": "",
   "metadata": {
    "collapsed": false
   },
   "outputs": [],
   "source": [
    "N = 4\n",
    "d0 = -2*ones(N+1)  # diagonal utama\n",
    "d0[0] = 1  # nilai pertama pada diagonal utama adalah 1\n",
    "d0[-1] = 1 # nilai terakhir pada diagonal utama adalah 1\n",
    "dplus1 = ones(N) # diagonal yang terletak tepat di atas diagonal utama, posisi = +1\n",
    "dplus1[0] = 0    # nilai pertama pada diagonal +1 adalah 0\n",
    "dmin1 = ones(N)  # diagonal yang terletak tepat di bawah diagonal utama, posisi = -1\n",
    "dmin1[-1] = 0    # nilai terakhir dari diaonal -1 adalah 0\n",
    "A = diag(d0,0) + diag(dplus1,1) + diag(dmin1,-1)\n",
    "print(A)"
   ]
  },
  {
   "cell_type": "markdown",
   "metadata": {},
   "source": [
    "Perhatikan bahwa metode beda hingga yang dideskripsikan di atas hanya akan memberikan solusi yang akurat apabila anda menggunakan jumlah titik observasi yang memadai, i.e. empat buah titik tidak cukup. Salah satu cara untuk mengetahui apakah anda sudah menggunakan jumlah titik observasi yang tepat adalah dengan menggandakan jumlah titik observasi yang anda telah tentukan dan membandingkan solusi yang anda peroleh dengan jumlah titik awal dan jumlah titik setelah digandakan. "
   ]
  },
  {
   "cell_type": "markdown",
   "metadata": {},
   "source": [
    "### Latihan 2. <a name=\"back2\"></a>*Head* di antara dua buah kanal\n",
    "Hitunglah distribusi *head* pada sebuah lapisan pasir yang dibatasi oleh dua buah kanal di masing-masing sisi. Diketahui bahwa: $k=10$ m/hari, $D=10$ m, $h_1^*=20$ m, $h_2^*=22$ m, $L=1000$ m, $P=0.001$ m/hari. Gunakan $N=40$. Tulislah kode dalam Python untuk:\n",
    "\n",
    "* Menemukan *head* di keseluruh $N+1$ titik\n",
    "* Menampilkan nilai maksimum dari *head* yang terletak di antara dua buah kanal tersebut pada layar komputer anda (apabila kode anda benar maka hasil yang akan diberikan adalah sekitar 22.5)\n",
    "* Buatlah plot antara *head* vs. $x$ dan berikan label yang sesuai pada masing-masing sumbu"
   ]
  },
  {
   "cell_type": "code",
   "execution_count": "",
   "metadata": {
    "collapsed": false
   },
   "outputs": [],
   "source": []
  },
  {
   "cell_type": "markdown",
   "metadata": {},
   "source": [
    "<a href=\"#ex2answer\">Kunci Jawaban untuk Latihan 2</a>"
   ]
  },
  {
   "cell_type": "markdown",
   "metadata": {},
   "source": [
    "### Konsolidasi\n",
    "Konsolidasi adalah proses deformasi yang dialami oleh tanah dalam kondisi jenuh. Proses ini merupakan proses yang lambat. Kompresi pada sebuah lapisan tanah akan menyebabkan porositas lapisan tanah tersebut berkurang sehingga ruang yang tersisa di antara partikel-partikel tanah untuk dimasuki oleh air juga akan berkurang. Maka dari itu, untuk mencapai kondisi terkompresi, kandungan air di dalam lapisan tanah harus dikeluarkan terlebih dahulu. Laju proses ini dipengaruhi oleh kondisi permeabilitas dari lapisan tanah yang sedang dievaluasi, e.g. nilai permeabilitas tanah lempung relatif kecil sehingga proses kompresi membutuhkan waktu yang cukup panjang, nilai permeabilitas tanah berpasir relatif lebih besar daripada tanah lempung sehingga waktu yang dibutuhkan akan lebih pendek dibandingkan tanah lempung. Penjelasan yang lebih mendetail dari proses kompresi dapat anda temukan di berbagai literatur, e.g. Bab 15-17 dalam buku Soil Mechanics oleh Verruijt, 2012."
   ]
  },
  {
   "cell_type": "markdown",
   "metadata": {},
   "source": [
    "Sebutlah sebuah proses konsolidasi 1 dimensi pada sebuah sampel tanah dengan ketebalan $h$. Tekanan air, $p$, pada sampel tanah ini dapat didefinisikan dengan menggunakan persamaan diferensial di bawah ini:\n",
    "\n",
    "$\\frac{\\partial p}{\\partial t} = c_v \\frac{\\partial^2 p}{\\partial z^2}$\n",
    "\n",
    "Di mana $z$ adalah posisi pada sumbu vertikal (titik 0 berada di bagian atas sampel) dan $c_v$ adalah koefisien konsolidasi. Dalam kasus ini, air hanya dapat mengalir keluar dari sistem dari bagian atas sampel tanah namun tidak dari bagian bawah sampel, sehingga kondisi batas pada bagian bawah adalah:\n",
    "\n",
    "$z=0 \\qquad \\frac{\\partial p}{\\partial z} = 0$\n",
    "\n",
    "Kondisi batas pada bagian atas adalah:\n",
    "\n",
    "$z=h \\qquad p = 0$\n",
    "\n",
    "Sebuah beban diaplikasikan secara konstan pada bagian atas sampel pada $t=0$ sehingga menghasilkan tekanan yang seragam (*uniform load*) diseluruh penampang sampel tanah:\n",
    "\n",
    "$t=0 \\qquad p = q$\n",
    "\n",
    "<img src=\"http://i.imgur.com/4xdeoxw.png\" alt=\"Consolidation\" width=400pt>\n"
   ]
  },
  {
   "cell_type": "markdown",
   "metadata": {},
   "source": [
    "The change of pressure with time in the soil is simulated with a numerical method (fully implicit finite differences, to be exact). The pressure is computed at $N+1$ points, equally distributed from $z=0$ to $z=h$. The points are labeled $z_0$ through $z_{N}$, where $z_n=n\\Delta z$ and $\\Delta z$ is the vertical distance between the points. The pressure at point $z_n$ is called $p_n$. A separate solution is computed for every time step $\\Delta t$. The time derivative is approximated as\n",
    "\n",
    "$\\frac{\\partial p}{\\partial t} \\approx [p_n(t) - p_n(t-\\Delta t)]/\\Delta t$\n",
    "\n",
    "while the spatial derivative is approximated as\n",
    "\n",
    "$\\frac{\\partial^2 p}{\\partial z^2} \\approx [p_{n-1}(t) -2p_n(t) + p_{n+1}(t)] / (\\Delta z)^2 $\n",
    "\n",
    "Subsitution of the approximations of these derivatives and gathering terms gives the following equation:\n",
    "\n",
    "$p_{n-1}(t) - (2+\\mu)p_n(t) + p_{n+1}(t) = -\\mu p_n(t-\\Delta t)$\n",
    "\n",
    "where $\\mu = (\\Delta z)^2/(c_v\\Delta t)$. This is an equation for the pressure in points $(n-1)$, $n$, and $(n+1)$ at time $t$, where it is assumed that the pressure at time $t-\\Delta t$ is known.\n",
    "\n",
    "The equations for $n=0$ and $n=N$ are different. \n",
    "At the bottom of the sample ($n=0$) the boundary condition is $\\partial p/\\partial z = 0$. The derivative may be approximated at $z_0=0$ as \n",
    "\n",
    "$\\left(\\frac{\\partial p}{\\partial z}\\right)_{z=0} \\approx (p_1-p_{-1})/(2\\Delta z)=0$\n",
    "\n",
    "where $p_{-1}$ is the pressure at an imaginary point $\\Delta z$ below $z_0$. The derivative is zero when $p_{-1}=p_1$, and substitution in the equation for $n=0$ gives\n",
    "\n",
    "$- (2+\\mu)p_n(t) + 2p_{n+1}(t) = -\\mu p_n(t-\\Delta t)$\n",
    "\n",
    "The equation for $n=N$ is easier, as at the top of the sample ($n=N$) the pressure is fixed to $p_N=0$."
   ]
  },
  {
   "cell_type": "markdown",
   "metadata": {},
   "source": [
    "Sebagai contoh, sebuah sistem persamaan-persamaan linear untuk merepresentasikan $N=4$ adalah:\n",
    "\n",
    "$\n",
    "\\left(\n",
    "\\begin{array}{ccccc}\n",
    "-(2+\\mu) & 2 & 0 & 0 & 0 \\\\\n",
    "1 & -(2+\\mu) & 1 & 0 & 0 \\\\\n",
    "0 & 1 & -(2+\\mu) & 1 & 0 \\\\\n",
    "0 & 0 & 1 & -(2+\\mu) & 1 \\\\\n",
    "0 & 0 & 0 & 0 & 1 \\\\\n",
    "\\end{array}\n",
    "\\right)\n",
    "\\left(\n",
    "\\begin{array}{c}\n",
    "p_0(t) \\\\\n",
    "p_1(t) \\\\\n",
    "p_2(t) \\\\\n",
    "p_3(t) \\\\\n",
    "p_4(t) \\\\\n",
    "\\end{array}\n",
    "\\right)\n",
    "=\n",
    "\\left(\n",
    "\\begin{array}{c}\n",
    "-\\mu p_0(t-\\Delta t)) \\\\\n",
    "-\\mu p_1(t-\\Delta t)) \\\\\n",
    "-\\mu p_2(t-\\Delta t)) \\\\\n",
    "-\\mu p_3(t-\\Delta t) \\\\\n",
    "0 \\\\\n",
    "\\end{array}\n",
    "\\right)\n",
    "$\n",
    "\n",
    "Solusi dari sistem ini dihitung per langkah waktu. Karena nilai dari matriks tidak berubah terhadap waktu maka matriks hanya perlu dihitung satu kali. Sebaliknya, untuk setiap langkah waktu, variabel-variabel yang terletak di sisi sebelah kanan perlu dihitung dan sebuah sistem linear yang terdiri dari $N+1$ persamaan perlu dicari solusinya. Apabila matriks kita beri label $A$ dan kumpulan variabel di sisi kanan (tekanan pada $t-\\Delta t$) dilabeli $\\vec{r}(t-\\Delta t)$, maka tekanan pada $t$, $\\vec{p}(t)$, dapat diperoleh dengan mencari solusi dari sistem:\n",
    "\n",
    "$A\\vec{p}(t) = \\vec{r}(t-\\Delta t)$"
   ]
  },
  {
   "cell_type": "markdown",
   "metadata": {},
   "source": [
    "Perhatikan bahwa prosedur untuk menghitung solusi numerik di atas merupakan sebuah penghampiran. Metode ini akan memberikan hasil yang akurat hanya bila kita menggunakan langkah waktu $\\Delta t$ dan diskretisasi ruang $\\Delta z$ yang cukup kecil."
   ]
  },
  {
   "cell_type": "markdown",
   "metadata": {},
   "source": [
    "### Latihan 3. <a name=\"back3\"></a>Konsolidasi 1 dimensi\n",
    "Sebutlah terdapat sebuah lapisan tanah lempung dengan ketebalan 2 m yang mengalami proses konsolidasi. Beban yang seragam diaplikasikan pada lapisan tanah pada $t=0$ sehingga menghasilkan peningkatan terhadap tekanan yang dialami lapisan tanah tersebut sebesar $p(t=0)=1$. Koefisien konsolidasi tanah lempung adalah $c_v=1\\cdot 10^{-6}$ m$^2$/s. Simulasikanlah proses konsolidasi ini menggunakan metode numerik yang telah dijelaskan di atas. Gunakan $N=40$ dan langkah waktu sebesar $\\Delta t=4\\cdot 10^4$ detik. Gunakan 50 langkah waktu dan plotlah distribusi tekanan yang dialami oleh lapisan tanah lempung per 10 langkah waktu. Bandingkan solusi yang anda peroleh dengan grafik yang terdapat pada Fig. 16.2 of Verrujt (2012) (Perhatikan bahwa Verrujt meletakkan variabel tekanan, $p$, di sepanjang sumbu horizontal). Garis terakhir pada plot anda harus menghampiri garis  $c_v t / h^2=0.5$ yang terdapat pada plot oleh Verrujt. \n",
    "\n",
    "Pastikan bahwa kode Python anda:\n",
    "\n",
    "* Menemukan solusi untuk tekanan di keseluruh $N+1$ titik untuk semua 50 langkah waktu dan menghasilkan plot dari tekanan yang dialami oleh lapisan tanah setelah 10, 20, 30, 40, dan 50 langkah waktu.\n",
    "* Menampilkan nilai maksimum dari tekanan yang dialami oleh lapisan tanah setelah 10, 20, 30 , 40, dan 50 langkah waktu di layar komputer anda."
   ]
  },
  {
   "cell_type": "code",
   "execution_count": "",
   "metadata": {
    "collapsed": false
   },
   "outputs": [],
   "source": []
  },
  {
   "cell_type": "markdown",
   "metadata": {},
   "source": [
    "<a href=\"#ex3answer\">Kunci Jawaban untuk Latihan 3</a>"
   ]
  },
  {
   "cell_type": "markdown",
   "metadata": {},
   "source": [
    "### Invers dari sebuah matriks\n",
    "Seperti yang sudah disebutkn di atas, nilai-nilai yang terdapat di dalam matriks `A` tidak berubah terhadap waktu. Maka dari itu, akan lebih efisien untuk menghitung nilai invers dari matriks `A` dan menyimpan nilai ini daripada memanggil fungsi `solve` berkali-kali. Nilai invers dari sebuah matriks dapat dihitung menggunakan fungsi `inv` yang disediakan oleh `linalg`. Apabila kita memberikan label `Ainv` terhadap nilai invers dari matriks `A`, maka solusi untuk tekanan yang dialami lapisan tanah yang telah kita jabarkan di atas dapat dihitung menggunakan operasi perkalian matriks antara `Ainv` dengan kumpulan variabel yang terletak di sebelah kanan. Gunakan contoh soal pertama dalam Notebook ini sebagai contoh, solusi untuk fungsi parabola dapat diperoleh dengan mencari nilai invers dari matrix `A` sebagai berikut: "
   ]
  },
  {
   "cell_type": "code",
   "execution_count": "",
   "metadata": {
    "collapsed": false
   },
   "outputs": [],
   "source": [
    "A = array([[ 4, -2, 1],\n",
    "           [ 1,  1, 1],\n",
    "           [16,  4, 1]])\n",
    "rhs = array([2,-1,4])\n",
    "Ainv = linalg.inv(A)\n",
    "sol = dot(Ainv,rhs)\n",
    "print('sol: ',sol)"
   ]
  },
  {
   "cell_type": "markdown",
   "metadata": {},
   "source": [
    "### Latihan 4. <a name=\"back4\"></a>Alternatif solusi untuk konsolidasi 1 dimensi\n",
    "Dengan menggunakan metode alternatif berupa nilai invers matriks, ubahlah solusi untuk problem konsolidasi 1 dimensi yang telah anda dapatkan di latihan sebelumnya."
   ]
  },
  {
   "cell_type": "code",
   "execution_count": "",
   "metadata": {
    "collapsed": false
   },
   "outputs": [],
   "source": []
  },
  {
   "cell_type": "markdown",
   "metadata": {},
   "source": [
    "<a href=\"#ex4answer\">Kunci Jawaban untuk Latihan 4</a>"
   ]
  },
  {
   "cell_type": "markdown",
   "metadata": {},
   "source": [
    "### Matriks *Sparse*\n",
    "Prosedur yang telah kita gunakan untuk membuat matriks berisi solusi dalam metode beda hingga sejauh ini tidaklah cukup efisien, di mana matriks yang kita ciptakan hanya berisi nilai-nilai yang diperlukan pada 3 buah sisi diagonal. Dengan menggunakan paket `numpy` terdapat prosedur yang lebih efisien di mana memori hanya digunakan untuk menyimpan nilai-nilai non-0 yang akan kita gunakan. Matriks yang digunakan untuk menyimpan nilai-nilai non-0 dan lokasi di mana nilai-nilai non-0 itu terdapat disebut matriks *sparse*. Fungsi ini dapat dipanggil dengan mengetik `scipy.sparse` pada kode sel anda. Sebuah matriks *sparse* dapat diciptakan dari diagonal-diagonal matriks asli menggunakan fungsi `diags`, argumentasi input yang dibutuhkan adalah daftar array-array yang akan membentuk 3 buah diagonal dan angka-angka yang merepresentasikan posisi dari masing-masing diagonal. Sebagai contoh, perhatikan matriks di bawah ini.\n",
    "\n",
    "$$\\left(\n",
    "\\begin{array}{cccc}\n",
    "2 & 3 & 0 & 0 \\\\\n",
    "1 & 2 & 3 & 0 \\\\\n",
    "0 & 1 & 2 & 3 \\\\\n",
    "0 & 0 & 1 & 2 \\\\\n",
    "\\end{array}\n",
    "\\right)$$\n",
    "\n",
    "Matriks di atas diciptakan menggunakan kode seperti yang diberikan pada contoh di bawah ini."
   ]
  },
  {
   "cell_type": "code",
   "execution_count": "",
   "metadata": {
    "collapsed": false
   },
   "outputs": [],
   "source": [
    "import scipy.sparse as sp\n",
    "A = sp.diags( [1*np.ones(3), 2*np.ones(4), 3*np.ones(3)], [-1,0,1], format='csc')\n",
    "print('Matriks sparse A')\n",
    "print(A) # Menampilkan A dengan pengaturan: baris, kolom, nilai\n",
    "print('Matriks A sebagai array')\n",
    "print(A.toarray())  # Menampilkan A sesuai dengan bentuk array asli"
   ]
  },
  {
   "cell_type": "markdown",
   "metadata": {},
   "source": [
    "Terdapat banyak cara untuk menyimpan sebuah matriks *sparse*. Pada contoh kode di atas, matriks *sparse* A disimpan menggunakan pengaturan `'csc'` atau *compressed sparse column*. Keuntungan dan kerugian dari tipe pengaturan ini dapat anda lihat [di sini](http://docs.scipy.org/doc/scipy/reference/generated/scipy.sparse.csc_matrix.html). Setelah mendefinisikan `A` sebagai matriks *sparse* maka `A` akan tersimpan sebagai sebuah objek matriks *sparse*. Solusi untuk sistem dengan persamaan-persamaan linear, $Ax=b$, dapat diperoleh dengan menggunakan fungsi `spsolve` yang dimiliki oleh `scipy.sparse.linalg`. Untuk melakukan validasi terhadap solusi yang anda peroleh melalui prosedur ini, anda tidak perlu memanggil operator perkalian matriks `np.dot` karena perkalian antara solusi yang diperoleh dan matriks *sparse* `A` dilakukan per elemen."
   ]
  },
  {
   "cell_type": "code",
   "execution_count": "",
   "metadata": {
    "collapsed": false
   },
   "outputs": [],
   "source": [
    "from scipy.sparse.linalg import spsolve\n",
    "print('Tipe dari matriks A:', type(A))\n",
    "b = np.arange(4)\n",
    "x = spsolve(A,b)  # x merupakan solusi dari sistem Ax=b\n",
    "A * x  # Verifikasi ketepatan dari solusi yang telah didapatkan di atas"
   ]
  },
  {
   "cell_type": "markdown",
   "metadata": {},
   "source": [
    "Keuntungan utama dari penggunaan matriks *sparse* adalah anda dapat mengevaluasi sistem-sistem dengan skala yang jauh lebih besar dibandingkan bila anda menggunakan matriks biasa, karena memori hanya digunakan untuk menyimpan informasi mengenai nilai-nilai non-0. Fungsi `spsolve` juga memerlukan waktu yang lebih pendek daripada `solve` semenjak variabel yang dievaluasi di dalam matriks *sparse* `A` lebih sedikit."
   ]
  },
  {
   "cell_type": "markdown",
   "metadata": {},
   "source": [
    "### Latihan 5 <a name=\"back5\"></a> Matriks *sparse*\n",
    "Hitunglah kembali problem yang terdapat pada Latihan 2 menggunakan metode matriks *sparse*. Temukan solusi untuk *head* menggunakan $h_1^*=42$, $h_2^*=40$, dan $N=10000$. Nilai untuk parameter-parameter lainnya sama dengan yang telah disebutkan pada Latihan 2. Buatlah plot dari *head* yang terdapat pada lapisan tanah di antara kedua buah kanal tersebut.\n",
    "\n",
    "**Perhatian:**\n",
    "Saat anda mencoba untuk menemukan solusi dari sistem dengan menggunakan matriks reguler dan $N=10000$, kemungkinan besar memori komputer anda tidak akan cukup untuk melakukan komputasi ini, atau apabila memori anda mencukupi maka waktu komputasi akan menjadi sangat panjang, dan/atau Python akan mengalami *crash*. Hindari penggunaan matriks reguler dalam contoh ini, namun apabila anda secara tidak sengaja melakukan komputasi ini dan Notebook menjadi tidak responsif, klik Tab 'Kernel' di Toolbar di atas dan pilih 'Restart'."
   ]
  },
  {
   "cell_type": "code",
   "execution_count": "",
   "metadata": {
    "collapsed": false
   },
   "outputs": [],
   "source": []
  },
  {
   "cell_type": "markdown",
   "metadata": {},
   "source": [
    "<a href=\"#ex5answer\">Kunci Jawaban untuk Latihan 5</a>"
   ]
  },
  {
   "cell_type": "markdown",
   "metadata": {},
   "source": [
    "### Kunci Jawaban"
   ]
  },
  {
   "cell_type": "markdown",
   "metadata": {},
   "source": [
    "<a name=\"ex1answer\">Kunci Jawaban untuk Latihan 1</a>"
   ]
  },
  {
   "cell_type": "code",
   "execution_count": "",
   "metadata": {
    "collapsed": false
   },
   "outputs": [],
   "source": [
    "tp = np.array([0,0.25,0.5,0.75])\n",
    "yp = np.array([ 3,1,-3,1])\n",
    "A = np.zeros((4,4))\n",
    "rhs = np.zeros(4)\n",
    "for i in range(4):\n",
    "    A[i] = np.cos(pi*tp[i]), np.cos(2*pi*tp[i]), np.cos(3*pi*tp[i]), np.cos(4*pi*tp[i])  # Store one row at a time\n",
    "    rhs[i] = yp[i]\n",
    "sol = np.linalg.solve(A, rhs)\n",
    "print('a,b,c,d: ',sol)\n",
    "\n",
    "t = np.linspace(0,1,100)\n",
    "y = sol[0] * np.cos(pi*t) + sol[1] * np.cos(2*pi*t) + sol[2] * np.cos(3*pi*t) + sol[3] * np.cos(4*pi*t)\n",
    "plt.plot(t, y, 'b', label='gelombang')\n",
    "plt.plot(tp, yp, 'ro', label='data')\n",
    "plt.legend(loc='best')"
   ]
  },
  {
   "cell_type": "markdown",
   "metadata": {},
   "source": [
    "<a href=\"#back1\">Kembali ke Latihan 1</a>\n",
    "\n",
    "<a name=\"ex2answer\">Kunci Jawaban untuk Latihan 2</a>"
   ]
  },
  {
   "cell_type": "code",
   "execution_count": "",
   "metadata": {
    "collapsed": false
   },
   "outputs": [],
   "source": [
    "k = 10.0\n",
    "D = 10.0\n",
    "h1star = 20.0\n",
    "h2star = 22.0\n",
    "L = 1000.0\n",
    "P = 0.001\n",
    "N = 40\n",
    "\n",
    "d0 = -2*ones(N+1)  # diagonal utama\n",
    "d0[0] = 1  # nilai pertama pada diagonal utama adalah 1\n",
    "d0[-1] = 1 # nilai terakhir pada diagonal utama adalah 1\n",
    "dplus1 = ones(N) # diagonal yang terletak tepat di atas diagonal utama, posisi = +1\n",
    "dplus1[0] = 0    # nilai pertama pada diagonal ini adalah 0\n",
    "dmin1 = ones(N)  # diagonal yang terletak tepat di bawah diagonal utama, posisi = -1\n",
    "dmin1[-1] = 0    # nilai terakhir pada diagonal ini adalah 0\n",
    "A = diag(d0,0) + diag(dplus1,1) + diag(dmin1,-1)\n",
    "# Kumpulan variabel yang terletak di sebelah kanan\n",
    "delx = L / N\n",
    "rhs = -P * delx**2 / (k*D) * ones(N+1)\n",
    "rhs[0] = h1star\n",
    "rhs[-1] = h2star\n",
    "# Temukan solusi untuk head dan plot hasilnya\n",
    "h = linalg.solve(A,rhs)\n",
    "x = linspace(0,L,N+1)\n",
    "plot(x,h)\n",
    "xlabel('x (m)')\n",
    "ylabel('head (m)')\n",
    "print('head maksimum ',amax(h))"
   ]
  },
  {
   "cell_type": "markdown",
   "metadata": {},
   "source": [
    "<a href=\"#back2\">Kembali ke Latihan 2</a>\n",
    "\n",
    "<a name=\"ex3answer\">Kunci Jawaban untuk Latihan 3</a>"
   ]
  },
  {
   "cell_type": "code",
   "execution_count": "",
   "metadata": {
    "collapsed": false
   },
   "outputs": [],
   "source": [
    "cv = 1e-6  # m^2/s\n",
    "h = 2.0  # m\n",
    "N = 40\n",
    "delt = 4e4  # s\n",
    "#\n",
    "delz = h/N\n",
    "mu = delz**2/(cv*delt)\n",
    "\n",
    "d0 = -(2+mu)*ones(N+1)\n",
    "d0[-1] = 1\n",
    "dp1 = ones(N)\n",
    "dp1[0] = 2\n",
    "dm1 = ones(N)\n",
    "dm1[-1] = 0\n",
    "A = diag(d0) + diag(dp1,1) + diag(dm1,-1)\n",
    "\n",
    "p = ones(N+1)\n",
    "for i in range(5):\n",
    "    for j in range(10):\n",
    "        rhs = -mu * p\n",
    "        rhs[-1] = 0\n",
    "        p = solve(A,rhs)\n",
    "    plot(arange(0,h+0.01,delz),p,label=str((i+1)*10)+' langkah waktu ')\n",
    "    print('nilai maksimum setelah ', 10*(i+1), 'timesteps is: ',p[0])\n",
    "xlim(0,2)\n",
    "legend(loc='best')\n",
    "xlabel('z')\n",
    "ylabel('p')\n",
    "yticks(linspace(0,1,11))\n",
    "title('Proses konsolidasi')"
   ]
  },
  {
   "cell_type": "markdown",
   "metadata": {},
   "source": [
    "<a href=\"#back3\">Kembali ke Latihan 3</a>\n",
    "\n",
    "<a name=\"ex4answer\">Kunci Jawaban untuk Latihan 4</a>"
   ]
  },
  {
   "cell_type": "code",
   "execution_count": "",
   "metadata": {
    "collapsed": false
   },
   "outputs": [],
   "source": [
    "cv = 1e-6  # m^2/s\n",
    "h = 2.0  # m\n",
    "N = 40\n",
    "delt = 4e4  # s\n",
    "#\n",
    "delz = h/N\n",
    "mu = delz**2/(cv*delt)\n",
    "\n",
    "d0 = -(2+mu)*ones(N+1)\n",
    "d0[-1] = 1\n",
    "dp1 = ones(N)\n",
    "dp1[0] = 2\n",
    "dm1 = ones(N)\n",
    "dm1[-1] = 0\n",
    "A = diag(d0) + diag(dp1,1) + diag(dm1,-1)\n",
    "Ainv = linalg.inv(A)\n",
    "\n",
    "p = ones(N+1)\n",
    "for i in range(5):\n",
    "    for j in range(10):\n",
    "        rhs = -mu * p\n",
    "        rhs[-1] = 0\n",
    "        p = dot(Ainv,rhs)\n",
    "    plot(arange(0,h+0.01,delz),p,label=str((i+1)*10)+' langkah waktu ')\n",
    "    print('nilai maksimum setelah ', 10*(i+1), 'langkah waktu adalah: ',p[0])\n",
    "xlim(0,2)\n",
    "legend(loc='best')\n",
    "xlabel('z')\n",
    "ylabel('p')\n",
    "yticks(linspace(0,1,11))\n",
    "title('Proses Konsolidasi')"
   ]
  },
  {
   "cell_type": "markdown",
   "metadata": {},
   "source": [
    "<a href=\"#back4\">Kembali ke Latihan 4</a>\n",
    "\n",
    "<a name=\"ex5answer\">Kunci Jawaban untuk Latihan 5</a>"
   ]
  },
  {
   "cell_type": "code",
   "execution_count": "",
   "metadata": {
    "collapsed": false
   },
   "outputs": [],
   "source": [
    "from scipy.sparse import diags\n",
    "from scipy.sparse.linalg import spsolve \n",
    "k = 10.0\n",
    "D = 10.0\n",
    "h1star = 42.0\n",
    "h2star = 40.0\n",
    "L = 1000.0\n",
    "P = 0.001\n",
    "N = 10000\n",
    "d0 = -2 * np.ones(N+1)  # diagonal utama\n",
    "d0[0] = 1  # nilai pertama dari diagonal utama adalah 1\n",
    "d0[-1] = 1 # nilai terakhir dari diagonal utama adalah 1\n",
    "dplus1 = np.ones(N) # diagonal yang terletak tepat di atas diagonal utama, posisi = +1\n",
    "dplus1[0] = 0    # nilai pertama dari diagonal ini adalah 0\n",
    "dmin1 = np.ones(N)  # diagonal yang terletak tepat di bawah diagonal utama, posisi = -1\n",
    "dmin1[-1] = 0    # nilai terakhir dari diagonal ini adalah 0\n",
    "A = diags([dmin1,d0,dplus1],[-1,0,1],format='csc')\n",
    "# kumpulan variabel di sisi sebelah kanan\n",
    "delx = L / N\n",
    "rhs = -P * delx**2 / (k*D) * np.ones(N+1)\n",
    "rhs[0] = h1star\n",
    "rhs[-1] = h2star\n",
    "h = spsolve(A,rhs)\n",
    "plt.plot(h)\n",
    "plt.xlabel('nomor node')\n",
    "plt.ylabel('head (m)')"
   ]
  },
  {
   "cell_type": "markdown",
   "metadata": {},
   "source": [
    "<a href=\"#back\">Kembali ke Latihan 5</a>"
   ]
  },
  {
   "cell_type": "code",
   "execution_count": null,
   "metadata": {
    "collapsed": true
   },
   "outputs": [],
   "source": []
  }
 ],
 "metadata": {
  "kernelspec": {
   "display_name": "Python [Root]",
   "language": "python",
   "name": "Python [Root]"
  },
  "language_info": {
   "codemirror_mode": {
    "name": "ipython",
    "version": 3
   },
   "file_extension": ".py",
   "mimetype": "text/x-python",
   "name": "python",
   "nbconvert_exporter": "python",
   "pygments_lexer": "ipython3",
   "version": "3.5.2"
  }
 },
 "nbformat": 4,
 "nbformat_minor": 0
}
